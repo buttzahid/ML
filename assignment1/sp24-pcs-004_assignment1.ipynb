{
 "cells": [
  {
   "cell_type": "code",
   "execution_count": 1,
   "metadata": {},
   "outputs": [],
   "source": [
    "import numpy as np\n",
    "import pandas as pd"
   ]
  },
  {
   "cell_type": "code",
   "execution_count": 2,
   "metadata": {},
   "outputs": [
    {
     "name": "stdout",
     "output_type": "stream",
     "text": [
      "[27, 125, 343, 512, 1728]\n"
     ]
    }
   ],
   "source": [
    "nums = [3, 5, 7, 8, 12]\n",
    "cubes = []\n",
    "\n",
    "# Appending the cubes of elements in nums to the cubes list\n",
    "for num in nums:\n",
    "    cubes.append(num ** 3)\n",
    "\n",
    "# Print the cubes list\n",
    "print(cubes)\n"
   ]
  },
  {
   "cell_type": "code",
   "execution_count": 3,
   "metadata": {},
   "outputs": [
    {
     "name": "stdout",
     "output_type": "stream",
     "text": [
      "{'parrot': 2, 'goat': 4, 'spider': 8, 'crab': 10}\n"
     ]
    }
   ],
   "source": [
    "# Creating an empty dictionary\n",
    "dict = {}\n",
    "\n",
    "# Adding the key-value pairs\n",
    "dict['parrot'] = 2\n",
    "dict['goat'] = 4\n",
    "dict['spider'] = 8\n",
    "dict['crab'] = 10\n",
    "\n",
    "# Print the dictionary\n",
    "print(dict)\n"
   ]
  },
  {
   "cell_type": "code",
   "execution_count": 4,
   "metadata": {},
   "outputs": [
    {
     "name": "stdout",
     "output_type": "stream",
     "text": [
      "parrot: 2 legs\n",
      "goat: 4 legs\n",
      "spider: 8 legs\n",
      "crab: 10 legs\n",
      "Total legs: 24\n"
     ]
    }
   ],
   "source": [
    "# Initialize a variable for the total number of legs\n",
    "total_legs = 0\n",
    "\n",
    "# Looping through the dictionary items\n",
    "for animal, legs in dict.items():\n",
    "    print(f\"{animal}: {legs} legs\")\n",
    "    total_legs += legs\n",
    "\n",
    "# Print the total number of legs\n",
    "print(f\"Total legs: {total_legs}\")\n"
   ]
  },
  {
   "cell_type": "code",
   "execution_count": 5,
   "metadata": {},
   "outputs": [
    {
     "name": "stdout",
     "output_type": "stream",
     "text": [
      "(3, 9, 4, [8, 6])\n"
     ]
    }
   ],
   "source": [
    "# Creating a tuple with a list inside\n",
    "A = (3, 9, 4, [5, 6])\n",
    "\n",
    "# Changing the value 5 to 8 in the list inside the tuple\n",
    "A[3][0] = 8\n",
    "\n",
    "# Print the modified tuple\n",
    "print(A)\n"
   ]
  },
  {
   "cell_type": "code",
   "execution_count": 6,
   "metadata": {},
   "outputs": [],
   "source": [
    "# Deleting the tuple A\n",
    "del A\n"
   ]
  },
  {
   "cell_type": "code",
   "execution_count": 7,
   "metadata": {},
   "outputs": [
    {
     "name": "stdout",
     "output_type": "stream",
     "text": [
      "Occurrences of 'p': 2\n"
     ]
    }
   ],
   "source": [
    "# Creating the tuple\n",
    "B = ('a', 'p', 'p', 'l', 'e')\n",
    "\n",
    "# Counting the number of occurrences of 'p'\n",
    "count_p = B.count('p')\n",
    "\n",
    "# Print the count of 'p'\n",
    "print(f\"Occurrences of 'p': {count_p}\")\n"
   ]
  },
  {
   "cell_type": "code",
   "execution_count": 8,
   "metadata": {},
   "outputs": [
    {
     "name": "stdout",
     "output_type": "stream",
     "text": [
      "Index of 'l': 3\n"
     ]
    }
   ],
   "source": [
    "# Finding the index of 'l' in tuple B\n",
    "index_l = B.index('l')\n",
    "\n",
    "# Print the index of 'l'\n",
    "print(f\"Index of 'l': {index_l}\")\n"
   ]
  },
  {
   "cell_type": "code",
   "execution_count": 9,
   "metadata": {},
   "outputs": [
    {
     "name": "stdout",
     "output_type": "stream",
     "text": [
      "Matrix A as a NumPy array:\n",
      " [[ 1  2  3  4]\n",
      " [ 5  6  7  8]\n",
      " [ 9 10 11 12]]\n"
     ]
    }
   ],
   "source": [
    "# Define matrix A\n",
    "A = np.array([[1, 2, 3, 4],\n",
    "              [5, 6, 7, 8],\n",
    "              [9, 10, 11, 12]])\n",
    "\n",
    "# Define vector z\n",
    "z = np.array([1, 0, 1])\n",
    "# 2.1 Convert matrix A into numpy array (already defined as a numpy array)\n",
    "print(\"Matrix A as a NumPy array:\\n\", A)\n"
   ]
  },
  {
   "cell_type": "code",
   "execution_count": 10,
   "metadata": {},
   "outputs": [
    {
     "name": "stdout",
     "output_type": "stream",
     "text": [
      "Subarray b (first 2 rows and columns 1 and 2):\n",
      " [[1 2]\n",
      " [5 6]]\n"
     ]
    }
   ],
   "source": [
    "# 2.2 Use slicing to pull out the subarray consisting of the first 2 rows and columns 1 and 2.\n",
    "b = A[:2, :2]\n",
    "print(\"Subarray b (first 2 rows and columns 1 and 2):\\n\", b)\n"
   ]
  },
  {
   "cell_type": "code",
   "execution_count": 11,
   "metadata": {},
   "outputs": [
    {
     "name": "stdout",
     "output_type": "stream",
     "text": [
      "Empty matrix C with the same shape as A:\n",
      " [[1936286034 1918967909 1701672295  544437358]\n",
      " [1881173876 1919252335 1701602592 1953391981]\n",
      " [1936291629        101          0          0]]\n"
     ]
    }
   ],
   "source": [
    "# 2.3 Create an empty matrix 'C' with the same shape as 'A'\n",
    "C = np.empty_like(A)\n",
    "print(\"Empty matrix C with the same shape as A:\\n\", C)\n"
   ]
  },
  {
   "cell_type": "code",
   "execution_count": 12,
   "metadata": {},
   "outputs": [
    {
     "name": "stdout",
     "output_type": "stream",
     "text": [
      "Matrix C after adding vector z to each column of A:\n",
      " [[ 2  3  4  5]\n",
      " [ 5  6  7  8]\n",
      " [10 11 12 13]]\n"
     ]
    }
   ],
   "source": [
    "# 2.4 Add the vector z to each column of the matrix 'A' with an explicit loop and store it in 'C'\n",
    "A = np.array([[1, 2, 3, 4],\n",
    "              [5, 6, 7, 8],\n",
    "              [9, 10, 11, 12]])\n",
    "for i in range(A.shape[1]):\n",
    "    C[:, i] = A[:, i] + z\n",
    "print(\"Matrix C after adding vector z to each column of A:\\n\", C)\n",
    "\n",
    "# Define X, Y, and v\n",
    "X = np.array([[1, 2], [3, 4]])\n",
    "Y = np.array([[5, 6], [7, 8]])\n",
    "v = np.array([9, 10])"
   ]
  },
  {
   "cell_type": "code",
   "execution_count": 13,
   "metadata": {},
   "outputs": [
    {
     "name": "stdout",
     "output_type": "stream",
     "text": [
      "Sum of matrices X and Y:\n",
      " [[ 6  8]\n",
      " [10 12]]\n"
     ]
    }
   ],
   "source": [
    "# 2.5 Add and print the matrices X and Y\n",
    "sum_XY = np.add(X, Y)  # Or X + Y\n",
    "print(\"Sum of matrices X and Y:\\n\", sum_XY)\n"
   ]
  },
  {
   "cell_type": "code",
   "execution_count": 14,
   "metadata": {},
   "outputs": [
    {
     "name": "stdout",
     "output_type": "stream",
     "text": [
      "Element-wise multiplication of X and Y:\n",
      " [[ 5 12]\n",
      " [21 32]]\n"
     ]
    }
   ],
   "source": [
    "# 2.6 Multiply and print the matrices X and Y (element-wise multiplication)\n",
    "product_XY = np.multiply(X, Y)  # Or X * Y\n",
    "print(\"Element-wise multiplication of X and Y:\\n\", product_XY)\n"
   ]
  },
  {
   "cell_type": "code",
   "execution_count": 15,
   "metadata": {},
   "outputs": [
    {
     "name": "stdout",
     "output_type": "stream",
     "text": [
      "Element-wise square root of matrix Y:\n",
      " [[2.23606798 2.44948974]\n",
      " [2.64575131 2.82842712]]\n"
     ]
    }
   ],
   "source": [
    "# 2.7 Compute and print the element-wise square root of matrix Y\n",
    "sqrt_Y = np.sqrt(Y)\n",
    "print(\"Element-wise square root of matrix Y:\\n\", sqrt_Y)\n"
   ]
  },
  {
   "cell_type": "code",
   "execution_count": 16,
   "metadata": {},
   "outputs": [
    {
     "name": "stdout",
     "output_type": "stream",
     "text": [
      "Dot product of matrix X and vector v:\n",
      " [29 67]\n"
     ]
    }
   ],
   "source": [
    "# 2.8 Compute and print the dot product of the matrix X and vector v\n",
    "dot_product = np.dot(X, v)\n",
    "print(\"Dot product of matrix X and vector v:\\n\", dot_product)\n"
   ]
  },
  {
   "cell_type": "code",
   "execution_count": 17,
   "metadata": {},
   "outputs": [
    {
     "name": "stdout",
     "output_type": "stream",
     "text": [
      "Sum of each column of matrix X:\n",
      " [4 6]\n"
     ]
    }
   ],
   "source": [
    "# 2.9 Compute and print the sum of each column of X\n",
    "column_sum = np.sum(X, axis=0)\n",
    "print(\"Sum of each column of matrix X:\\n\", column_sum)\n"
   ]
  },
  {
   "cell_type": "code",
   "execution_count": 18,
   "metadata": {},
   "outputs": [
    {
     "name": "stdout",
     "output_type": "stream",
     "text": [
      "Velocity = 10.0 m/s\n"
     ]
    }
   ],
   "source": [
    "# 3.1 Define the function Compute\n",
    "def Compute(distance, time):\n",
    "    if time == 0:\n",
    "        return \"Time cannot be zero!\"\n",
    "    else:\n",
    "        velocity = distance / time\n",
    "        return velocity\n",
    "\n",
    "# Example usage\n",
    "distance = 100  # meters\n",
    "time = 10  # seconds\n",
    "velocity = Compute(distance, time)\n",
    "print(f\"Velocity = {velocity} m/s\")\n"
   ]
  },
  {
   "cell_type": "code",
   "execution_count": 19,
   "metadata": {},
   "outputs": [
    {
     "name": "stdout",
     "output_type": "stream",
     "text": [
      "The product of all even numbers is: 46080\n"
     ]
    }
   ],
   "source": [
    "# 3.2 Create the list of even numbers up to 12\n",
    "even_num = [2, 4, 6, 8, 10, 12]\n",
    "\n",
    "# Define the function mult\n",
    "def mult(even_num):\n",
    "    product = 1  # Start with 1 as the identity element for multiplication\n",
    "    for num in even_num:\n",
    "        product *= num\n",
    "    return product\n",
    "\n",
    "# Example usage\n",
    "result = mult(even_num)\n",
    "print(f\"The product of all even numbers is: {result}\")\n"
   ]
  },
  {
   "cell_type": "code",
   "execution_count": 20,
   "metadata": {},
   "outputs": [
    {
     "name": "stdout",
     "output_type": "stream",
     "text": [
      "DataFrame 'pd':\n",
      "    C1  C2  C3  C4\n",
      "0   1   6   7   7\n",
      "1   2   7   9   5\n",
      "2   3   5   8   2\n",
      "3   5   4   6   8\n",
      "4   5   8   5   8\n",
      "\n",
      "4.1 First two rows:\n",
      "    C1  C2  C3  C4\n",
      "0   1   6   7   7\n",
      "1   2   7   9   5\n"
     ]
    }
   ],
   "source": [
    "# 4. Create the DataFrame 'pd'\n",
    "data = {\n",
    "    'C1': [1, 2, 3, 5, 5],\n",
    "    'C2': [6, 7, 5, 4, 8],\n",
    "    'C3': [7, 9, 8, 6, 5],\n",
    "    'C4': [7, 5, 2, 8, 8]\n",
    "}\n",
    "\n",
    "# Create DataFrame\n",
    "df = pd.DataFrame(data)\n",
    "print(\"DataFrame 'pd':\\n\", df)\n",
    "\n",
    "# 4.1 Print only the first two rows of the dataframe\n",
    "print(\"\\n4.1 First two rows:\\n\", df.head(2))"
   ]
  },
  {
   "cell_type": "code",
   "execution_count": 21,
   "metadata": {},
   "outputs": [
    {
     "name": "stdout",
     "output_type": "stream",
     "text": [
      "\n",
      "4.2 Second column:\n",
      " 0    6\n",
      "1    7\n",
      "2    5\n",
      "3    4\n",
      "4    8\n",
      "Name: C2, dtype: int64\n"
     ]
    }
   ],
   "source": [
    "# 4.2 Print the second column\n",
    "print(\"\\n4.2 Second column:\\n\", df['C2'])"
   ]
  },
  {
   "cell_type": "code",
   "execution_count": 22,
   "metadata": {},
   "outputs": [
    {
     "name": "stdout",
     "output_type": "stream",
     "text": [
      "\n",
      "4.3 DataFrame after renaming column 'C3' to 'B3':\n",
      "    C1  C2  B3  C4\n",
      "0   1   6   7   7\n",
      "1   2   7   9   5\n",
      "2   3   5   8   2\n",
      "3   5   4   6   8\n",
      "4   5   8   5   8\n"
     ]
    }
   ],
   "source": [
    "# 4.3 Change the name of the third column from ‘C3’ to ‘B3’\n",
    "df.rename(columns={'C3': 'B3'}, inplace=True)\n",
    "print(\"\\n4.3 DataFrame after renaming column 'C3' to 'B3':\\n\", df)"
   ]
  },
  {
   "cell_type": "code",
   "execution_count": 23,
   "metadata": {},
   "outputs": [
    {
     "name": "stdout",
     "output_type": "stream",
     "text": [
      "\n",
      "4.4 DataFrame after adding column 'Sum':\n",
      "    C1  C2  B3  C4  Sum\n",
      "0   1   6   7   7    0\n",
      "1   2   7   9   5    0\n",
      "2   3   5   8   2    0\n",
      "3   5   4   6   8    0\n",
      "4   5   8   5   8    0\n"
     ]
    }
   ],
   "source": [
    "# 4.4 Add a new column to the dataframe and name it ‘Sum’\n",
    "df['Sum'] = 0\n",
    "print(\"\\n4.4 DataFrame after adding column 'Sum':\\n\", df)"
   ]
  },
  {
   "cell_type": "code",
   "execution_count": 24,
   "metadata": {},
   "outputs": [
    {
     "name": "stdout",
     "output_type": "stream",
     "text": [
      "\n",
      "4.5 DataFrame after summing rows and adding to 'Sum':\n",
      "    C1  C2  B3  C4  Sum\n",
      "0   1   6   7   7   21\n",
      "1   2   7   9   5   23\n",
      "2   3   5   8   2   18\n",
      "3   5   4   6   8   23\n",
      "4   5   8   5   8   26\n"
     ]
    }
   ],
   "source": [
    "# 4.5 Sum the entries of each row and add the result in the column ‘Sum’\n",
    "df['Sum'] = df.sum(axis=1)\n",
    "print(\"\\n4.5 DataFrame after summing rows and adding to 'Sum':\\n\", df)"
   ]
  },
  {
   "cell_type": "code",
   "execution_count": 25,
   "metadata": {},
   "outputs": [],
   "source": [
    "# 4.6 Read CSV file 'hello_sample.csv' into a Pandas dataframe\n",
    "# Assuming 'hello_sample.csv' is located in the same directory or provided path\n",
    "# For example purposes, I'll simulate this part:\n",
    "df_csv = pd.read_csv('datasets/hello_sample.csv')\n",
    "# For now, skipping this due to the lack of actual file in the current environment"
   ]
  },
  {
   "cell_type": "code",
   "execution_count": 26,
   "metadata": {},
   "outputs": [
    {
     "name": "stdout",
     "output_type": "stream",
     "text": [
      "\n",
      "4.7 Complete DataFrame:\n",
      "     Gender  F_Color     B_Month  Weight\n",
      "0     Male    Black       March      77\n",
      "1     Male      Red       March      72\n",
      "2     Male    Black     October      53\n",
      "3   Female     Blue    February      63\n",
      "4     Male    black    October       80\n",
      "5   Female    Black    december      97\n",
      "6     Male   Orange      August      60\n",
      "7   Female      Red   September      59\n",
      "8     Male     Blue        July      60\n",
      "9     Male     Blue         May      58\n",
      "10  Female      Red    October       60\n",
      "11    Male    Black   September      65\n",
      "12    Male    Green    December      85\n",
      "13    Male    Black       April      72\n",
      "14    Male    Green    January       90\n",
      "15    Male   Yellow   November       90\n",
      "16    Male    Black      August      54\n",
      "17    Male    Black     January      82\n",
      "18    Male  Mustard   December       60\n",
      "19  Female    Black    October       76\n",
      "20    Male    Black   February       67\n",
      "21    Male   Yellow       April      74\n",
      "22    Male      Red  September       66\n"
     ]
    }
   ],
   "source": [
    "# 4.7 Print complete dataframe (assuming the csv is loaded)\n",
    "print(\"\\n4.7 Complete DataFrame:\\n\", df_csv)"
   ]
  },
  {
   "cell_type": "code",
   "execution_count": 27,
   "metadata": {},
   "outputs": [
    {
     "name": "stdout",
     "output_type": "stream",
     "text": [
      "\n",
      "4.8 Bottom 2 records:\n",
      "    Gender F_Color     B_Month  Weight\n",
      "21   Male  Yellow       April      74\n",
      "22   Male     Red  September       66\n"
     ]
    }
   ],
   "source": [
    "# 4.8 Print only the bottom 2 records of the dataframe\n",
    "print(\"\\n4.8 Bottom 2 records:\\n\", df_csv.tail(2))"
   ]
  },
  {
   "cell_type": "code",
   "execution_count": 28,
   "metadata": {},
   "outputs": [
    {
     "name": "stdout",
     "output_type": "stream",
     "text": [
      "\n",
      "4.9 Information about the DataFrame:\n",
      "\n",
      "<class 'pandas.core.frame.DataFrame'>\n",
      "RangeIndex: 23 entries, 0 to 22\n",
      "Data columns (total 4 columns):\n",
      " #   Column   Non-Null Count  Dtype \n",
      "---  ------   --------------  ----- \n",
      " 0   Gender   23 non-null     object\n",
      " 1   F_Color  23 non-null     object\n",
      " 2   B_Month  23 non-null     object\n",
      " 3   Weight   23 non-null     int64 \n",
      "dtypes: int64(1), object(3)\n",
      "memory usage: 868.0+ bytes\n"
     ]
    }
   ],
   "source": [
    "# 4.9 Print information about the dataframe\n",
    "print(\"\\n4.9 Information about the DataFrame:\\n\")\n",
    "df_csv.info()"
   ]
  },
  {
   "cell_type": "code",
   "execution_count": 29,
   "metadata": {},
   "outputs": [
    {
     "name": "stdout",
     "output_type": "stream",
     "text": [
      "\n",
      "4.10 Shape of the DataFrame:\n",
      " (23, 4)\n"
     ]
    }
   ],
   "source": [
    "# 4.10 Print shape (rows x columns) of the dataframe\n",
    "print(\"\\n4.10 Shape of the DataFrame:\\n\", df_csv.shape)"
   ]
  },
  {
   "cell_type": "code",
   "execution_count": 30,
   "metadata": {},
   "outputs": [
    {
     "name": "stdout",
     "output_type": "stream",
     "text": [
      "\n",
      "4.11 DataFrame sorted by 'Weight':\n",
      "     Gender  F_Color     B_Month  Weight\n",
      "2     Male    Black     October      53\n",
      "16    Male    Black      August      54\n",
      "9     Male     Blue         May      58\n",
      "7   Female      Red   September      59\n",
      "18    Male  Mustard   December       60\n",
      "10  Female      Red    October       60\n",
      "6     Male   Orange      August      60\n",
      "8     Male     Blue        July      60\n",
      "3   Female     Blue    February      63\n",
      "11    Male    Black   September      65\n",
      "22    Male      Red  September       66\n",
      "20    Male    Black   February       67\n",
      "13    Male    Black       April      72\n",
      "1     Male      Red       March      72\n",
      "21    Male   Yellow       April      74\n",
      "19  Female    Black    October       76\n",
      "0     Male    Black       March      77\n",
      "4     Male    black    October       80\n",
      "17    Male    Black     January      82\n",
      "12    Male    Green    December      85\n",
      "14    Male    Green    January       90\n",
      "15    Male   Yellow   November       90\n",
      "5   Female    Black    december      97\n"
     ]
    }
   ],
   "source": [
    "# 4.11 Sort the data of the dataframe using column ‘Weight’\n",
    "# Assuming 'Weight' column exists in the CSV file\n",
    "df_sorted = df_csv.sort_values(by='Weight')\n",
    "print(\"\\n4.11 DataFrame sorted by 'Weight':\\n\", df_sorted)"
   ]
  },
  {
   "cell_type": "code",
   "execution_count": 31,
   "metadata": {},
   "outputs": [
    {
     "name": "stdout",
     "output_type": "stream",
     "text": [
      "\n",
      "4.12 Checking for missing values (isnull):\n",
      "     Gender  F_Color  B_Month  Weight\n",
      "0    False    False    False   False\n",
      "1    False    False    False   False\n",
      "2    False    False    False   False\n",
      "3    False    False    False   False\n",
      "4    False    False    False   False\n",
      "5    False    False    False   False\n",
      "6    False    False    False   False\n",
      "7    False    False    False   False\n",
      "8    False    False    False   False\n",
      "9    False    False    False   False\n",
      "10   False    False    False   False\n",
      "11   False    False    False   False\n",
      "12   False    False    False   False\n",
      "13   False    False    False   False\n",
      "14   False    False    False   False\n",
      "15   False    False    False   False\n",
      "16   False    False    False   False\n",
      "17   False    False    False   False\n",
      "18   False    False    False   False\n",
      "19   False    False    False   False\n",
      "20   False    False    False   False\n",
      "21   False    False    False   False\n",
      "22   False    False    False   False\n"
     ]
    }
   ],
   "source": [
    "# 4.12 Use isnull() and dropna() methods and see if they produce changes\n",
    "# Checking for missing values\n",
    "print(\"\\n4.12 Checking for missing values (isnull):\\n\", df_csv.isnull())"
   ]
  },
  {
   "cell_type": "code",
   "execution_count": 32,
   "metadata": {},
   "outputs": [
    {
     "name": "stdout",
     "output_type": "stream",
     "text": [
      "\n",
      "4.12 DataFrame after using dropna:\n",
      "     Gender  F_Color     B_Month  Weight\n",
      "0     Male    Black       March      77\n",
      "1     Male      Red       March      72\n",
      "2     Male    Black     October      53\n",
      "3   Female     Blue    February      63\n",
      "4     Male    black    October       80\n",
      "5   Female    Black    december      97\n",
      "6     Male   Orange      August      60\n",
      "7   Female      Red   September      59\n",
      "8     Male     Blue        July      60\n",
      "9     Male     Blue         May      58\n",
      "10  Female      Red    October       60\n",
      "11    Male    Black   September      65\n",
      "12    Male    Green    December      85\n",
      "13    Male    Black       April      72\n",
      "14    Male    Green    January       90\n",
      "15    Male   Yellow   November       90\n",
      "16    Male    Black      August      54\n",
      "17    Male    Black     January      82\n",
      "18    Male  Mustard   December       60\n",
      "19  Female    Black    October       76\n",
      "20    Male    Black   February       67\n",
      "21    Male   Yellow       April      74\n",
      "22    Male      Red  September       66\n"
     ]
    }
   ],
   "source": [
    "# Dropping rows with missing values (if any)\n",
    "df_dropped_na = df_csv.dropna()\n",
    "print(\"\\n4.12 DataFrame after using dropna:\\n\", df_dropped_na)"
   ]
  }
 ],
 "metadata": {
  "kernelspec": {
   "display_name": "base",
   "language": "python",
   "name": "python3"
  },
  "language_info": {
   "codemirror_mode": {
    "name": "ipython",
    "version": 3
   },
   "file_extension": ".py",
   "mimetype": "text/x-python",
   "name": "python",
   "nbconvert_exporter": "python",
   "pygments_lexer": "ipython3",
   "version": "3.12.4"
  }
 },
 "nbformat": 4,
 "nbformat_minor": 2
}
